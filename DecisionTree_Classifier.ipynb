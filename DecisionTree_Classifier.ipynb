{
  "nbformat": 4,
  "nbformat_minor": 0,
  "metadata": {
    "colab": {
      "provenance": [],
      "authorship_tag": "ABX9TyNUZ04d+F5dhFwcFcf8h8wC",
      "include_colab_link": true
    },
    "kernelspec": {
      "name": "python3",
      "display_name": "Python 3"
    },
    "language_info": {
      "name": "python"
    }
  },
  "cells": [
    {
      "cell_type": "markdown",
      "metadata": {
        "id": "view-in-github",
        "colab_type": "text"
      },
      "source": [
        "<a href=\"https://colab.research.google.com/github/GOUTAM-RAM21/pandas-project/blob/main/DecisionTree_Classifier.ipynb\" target=\"_parent\"><img src=\"https://colab.research.google.com/assets/colab-badge.svg\" alt=\"Open In Colab\"/></a>"
      ]
    },
    {
      "cell_type": "code",
      "execution_count": 3,
      "metadata": {
        "colab": {
          "base_uri": "https://localhost:8080/"
        },
        "id": "fbGzJeDHBQhJ",
        "outputId": "db50730e-d6f2-4583-aef0-89cefd118ce3"
      },
      "outputs": [
        {
          "output_type": "stream",
          "name": "stdout",
          "text": [
            "Model Accuracy: 0.0\n",
            "\n",
            "Enter user details to predict smartphone purchase likelihood:\n",
            "Please enter your Age: 21\n",
            "Please enter your Income: 50000\n",
            "Please enter your Education Level (1=12th, 2=Graduate, 3=Masters, 4=Doctorate): 2\n",
            "\n",
            "The user with Age 21, Income 50000, and Education Level 2 is unlikely to purchase a smartphone.\n"
          ]
        }
      ],
      "source": [
        "\"\"\"\n",
        "A company wants to build a Decision Tree classification model to predict whether a person is likely to purchase a new smartphone.\n",
        "The prediction will be based on three features:\n",
        "\n",
        "- Age\n",
        "- Income\n",
        "- Education Level\n",
        "\n",
        "The dataset contains these features and a target variable (Purchase: 1 = Yes, 0 = No).\n",
        "The model should classify new customers into either “likely to purchase” or “unlikely to purchase” categories.\n",
        "\"\"\"\n",
        "\n",
        "import numpy as np\n",
        "from sklearn.model_selection import train_test_split\n",
        "from sklearn.tree import DecisionTreeClassifier\n",
        "from sklearn.metrics import accuracy_score\n",
        "\n",
        "X = np.array([\n",
        "    [25, 50000, 3],\n",
        "    [35, 90000, 2],\n",
        "    [40, 60000, 5],\n",
        "    [45, 80000, 3],\n",
        "    [20, 30000, 2],\n",
        "    [55, 120000, 4],\n",
        "    [28, 40000, 1],\n",
        "    [32, 100000, 3],\n",
        "    [50, 75000, 2]\n",
        "])\n",
        "\n",
        "y = np.array([1, 1, 0, 0, 0, 1, 0, 1, 0])\n",
        "\n",
        "X_train, X_test, y_train, y_test = train_test_split(X, y, test_size=0.2, random_state=42)\n",
        "\n",
        "model = DecisionTreeClassifier()\n",
        "model.fit(X_train, y_train)\n",
        "\n",
        "y_pred = model.predict(X_test)\n",
        "accuracy = accuracy_score(y_test, y_pred)\n",
        "print(f\"Model Accuracy: {accuracy}\")\n",
        "\n",
        "print(\"\\nEnter user details to predict smartphone purchase likelihood:\")\n",
        "user_age = float(input(\"Please enter your Age: \"))\n",
        "user_income = float(input(\"Please enter your Income: \"))\n",
        "user_education_level = float(input(\"Please enter your Education Level (1=12th, 2=Graduate, 3=Masters, 4=Doctorate): \"))\n",
        "\n",
        "user_input_data = np.array([[user_age, user_income, user_education_level]])\n",
        "prediction = model.predict(user_input_data)\n",
        "\n",
        "if prediction[0] == 1:\n",
        "    print(f\"\\nThe user with Age {int(user_age)}, Income {int(user_income)}, and Education Level {int(user_education_level)} is likely to purchase a smartphone.\")\n",
        "else:\n",
        "    print(f\"\\nThe user with Age {int(user_age)}, Income {int(user_income)}, and Education Level {int(user_education_level)} is unlikely to purchase a smartphone.\")\n"
      ]
    }
  ]
}