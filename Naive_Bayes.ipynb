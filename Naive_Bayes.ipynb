{
  "nbformat": 4,
  "nbformat_minor": 0,
  "metadata": {
    "colab": {
      "provenance": [],
      "authorship_tag": "ABX9TyMut+25Cw4cfCN3jsrwspqS"
    },
    "kernelspec": {
      "name": "python3",
      "display_name": "Python 3"
    },
    "language_info": {
      "name": "python"
    }
  },
  "cells": [
    {
      "cell_type": "code",
      "execution_count": 1,
      "metadata": {
        "colab": {
          "base_uri": "https://localhost:8080/"
        },
        "id": "7YZ2RPVU1Kmj",
        "outputId": "14adc4aa-53fb-4b9e-8e76-923e3a955102"
      },
      "outputs": [
        {
          "output_type": "stream",
          "name": "stdout",
          "text": [
            "Enter your review: The product is excellent and works perfectly\n",
            "The review 'The product is excellent and works perfectly' is classified as: Positive Sentiment\n"
          ]
        }
      ],
      "source": [
        "\"\"\"\n",
        "The company wants to develop a text classification system that can automatically analyze\n",
        "customer reviews and classify them into positive or negative sentiments. This solution\n",
        "will help the company gain insights into customer satisfaction and overall product perception.\n",
        "\n",
        "To achieve this, the company will use a Naive Bayes classification model, a probabilistic\n",
        "machine learning algorithm well-suited for text-based data and sentiment analysis tasks.\n",
        "The model should take customer reviews as input and accurately predict whether the\n",
        "sentiment expressed is positive or negative.\n",
        "\"\"\"\n",
        "\n",
        "import numpy as np\n",
        "from sklearn.feature_extraction.text import CountVectorizer\n",
        "from sklearn.naive_bayes import MultinomialNB\n",
        "\n",
        "reviews = [\n",
        "    \"The product is excellent and works perfectly\",\n",
        "    \"The product is not good and very disappointing\",\n",
        "    \"Terrible product and waste of money\",\n",
        "    \"I love this product and it is amazing\"\n",
        "]\n",
        "\n",
        "sentiments = np.array([1, 0, 0, 1])\n",
        "\n",
        "vectorizer = CountVectorizer()\n",
        "X = vectorizer.fit_transform(reviews)\n",
        "\n",
        "classifier = MultinomialNB()\n",
        "classifier.fit(X, sentiments)\n",
        "\n",
        "def classify_new_review(review):\n",
        "    review_vectorized = vectorizer.transform([review])\n",
        "    prediction = classifier.predict(review_vectorized)\n",
        "    if prediction == 1:\n",
        "        return \"Positive Sentiment\"\n",
        "    else:\n",
        "        return \"Negative Sentiment\"\n",
        "\n",
        "user_review = input(\"Enter your review: \")\n",
        "result = classify_new_review(user_review)\n",
        "print(f\"The review '{user_review}' is classified as: {result}\")\n"
      ]
    }
  ]
}