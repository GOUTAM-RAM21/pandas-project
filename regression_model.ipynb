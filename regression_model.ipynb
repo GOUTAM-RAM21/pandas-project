{
  "nbformat": 4,
  "nbformat_minor": 0,
  "metadata": {
    "colab": {
      "provenance": [],
      "authorship_tag": "ABX9TyNaVIPOlcSkF16t/i6Af0KZ",
      "include_colab_link": true
    },
    "kernelspec": {
      "name": "python3",
      "display_name": "Python 3"
    },
    "language_info": {
      "name": "python"
    }
  },
  "cells": [
    {
      "cell_type": "markdown",
      "metadata": {
        "id": "view-in-github",
        "colab_type": "text"
      },
      "source": [
        "<a href=\"https://colab.research.google.com/github/GOUTAM-RAM21/pandas-project/blob/main/regression_model.ipynb\" target=\"_parent\"><img src=\"https://colab.research.google.com/assets/colab-badge.svg\" alt=\"Open In Colab\"/></a>"
      ]
    },
    {
      "cell_type": "code",
      "source": [
        "import numpy as np\n",
        "from sklearn.linear_model import LinearRegression\n",
        "from sklearn.model_selection import train_test_split\n",
        "from sklearn.linear_model import LogisticRegression\n",
        "x=np.array([[25,30,0],[30,40,1],[20,35,0],[35,40,1]])\n",
        "y=np.array([0,1,0,1])\n",
        "x_train,x_test,y_train,y_test=train_test_split(x,y,test_size=0.2,random_state=42)\n",
        "model = LogisticRegression()\n",
        "model.fit(x_train,y_train)\n",
        "accuracy=model.score(x_test,y_test)\n",
        "print(f\"model accuracy:{accuracy}\")\n",
        "user_age=float(input(\"enter age:\"))\n",
        "user_time_spent=float(input(\"enter the time spent on the website\"))\n",
        "user_add_to_cart=int(input(\"enter 1 if he added to cart ,else enter 0:\"))\n",
        "user_data=np.array([[user_age,user_time_spent,user_add_to_cart]])\n",
        "predication=model.predict(user_data)\n",
        "if predication[0]==1:\n",
        "    print(\"user will buy the product.\")\n",
        "else:\n",
        "    print(\"user not buy the product.\")\n",
        "\n"
      ],
      "metadata": {
        "colab": {
          "base_uri": "https://localhost:8080/"
        },
        "id": "Qy358exQCyAk",
        "outputId": "8dab2eed-ab94-4340-927d-f06e9677f9da"
      },
      "execution_count": 21,
      "outputs": [
        {
          "output_type": "stream",
          "name": "stdout",
          "text": [
            "model accuracy:1.0\n",
            "enter age:30\n",
            "enter the time spent on the website40\n",
            "enter 1 if he added to cart ,else enter 0:1\n",
            "user will buy the product.\n"
          ]
        }
      ]
    }
  ]
}